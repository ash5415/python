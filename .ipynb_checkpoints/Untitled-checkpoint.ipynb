{
 "cells": [
  {
   "cell_type": "code",
   "execution_count": 1,
   "id": "e00294fc-978c-4e1a-9cd5-95babc57f81c",
   "metadata": {},
   "outputs": [
    {
     "name": "stdout",
     "output_type": "stream",
     "text": [
      "{'p3', 'p4', 'p5', 'p2', 'p6', 'p1'}\n"
     ]
    },
    {
     "data": {
      "text/plain": [
       "{'p1', 'p2', 'p3', 'p4', 'p5'}"
      ]
     },
     "execution_count": 1,
     "metadata": {},
     "output_type": "execute_result"
    }
   ],
   "source": [
    "store1 ={'p1','p2','p3','p4','p5','p6'}\n",
    "store2={'p1','p2','p3','p4','p5'}\n",
    "print(store1)\n",
    "store1.intersection(store2)\n"
   ]
  },
  {
   "cell_type": "code",
   "execution_count": 2,
   "id": "e726b562-32b3-4ce2-a010-1a55d9326445",
   "metadata": {},
   "outputs": [
    {
     "data": {
      "text/plain": [
       "{'p1', 'p2', 'p3', 'p4', 'p5', 'p6'}"
      ]
     },
     "execution_count": 2,
     "metadata": {},
     "output_type": "execute_result"
    }
   ],
   "source": [
    "store1.union(store2)"
   ]
  },
  {
   "cell_type": "code",
   "execution_count": 3,
   "id": "defc2d72-6684-4dd3-9bc7-544310b21bf8",
   "metadata": {},
   "outputs": [
    {
     "data": {
      "text/plain": [
       "{'p6'}"
      ]
     },
     "execution_count": 3,
     "metadata": {},
     "output_type": "execute_result"
    }
   ],
   "source": [
    "store1.difference(store2)"
   ]
  },
  {
   "cell_type": "markdown",
   "id": "258ca251",
   "metadata": {},
   "source": [
    "# Using curly braces\n",
    "my_set = {1, 2, 3, 4}\n",
    "print(my_set)  # Output: {1, 2, 3, 4}\n",
    "\n",
    "# Using the set() constructor\n",
    "my_set = set([1, 2, 3, 4])\n",
    "print(my_set)  # Output: {1, 2, 3, 4}\n"
   ]
  },
  {
   "cell_type": "code",
   "execution_count": 1,
   "id": "df953474",
   "metadata": {},
   "outputs": [
    {
     "name": "stdout",
     "output_type": "stream",
     "text": [
      "5\n"
     ]
    }
   ],
   "source": [
    "s=5;\n",
    "z=10\n",
    "print(s);"
   ]
  },
  {
   "cell_type": "code",
   "execution_count": 2,
   "id": "e858f3c2-084b-45bb-8b19-283e450984ef",
   "metadata": {},
   "outputs": [
    {
     "name": "stdout",
     "output_type": "stream",
     "text": [
      "True\n"
     ]
    }
   ],
   "source": [
    "list1=[1,2,3,4,5,6]\n",
    "print(4 in list1)"
   ]
  },
  {
   "cell_type": "code",
   "execution_count": 5,
   "id": "96d67e27-d000-41c1-8307-711bdb6381b9",
   "metadata": {},
   "outputs": [
    {
     "name": "stdout",
     "output_type": "stream",
     "text": [
      "40\n"
     ]
    }
   ],
   "source": [
    "def main():\n",
    "    x =10;\n",
    "    y =30;\n",
    "    \n",
    "    print(x + y);\n",
    "main()\n"
   ]
  },
  {
   "cell_type": "code",
   "execution_count": null,
   "id": "c64c2f15-a102-4889-b5d5-e711b5b0dbb2",
   "metadata": {},
   "outputs": [],
   "source": [
    "x = input()\n",
    "10;\n",
    "print(x)\n",
    "type(x)"
   ]
  }
 ],
 "metadata": {
  "kernelspec": {
   "display_name": "Python 3 (ipykernel)",
   "language": "python",
   "name": "python3"
  },
  "language_info": {
   "codemirror_mode": {
    "name": "ipython",
    "version": 3
   },
   "file_extension": ".py",
   "mimetype": "text/x-python",
   "name": "python",
   "nbconvert_exporter": "python",
   "pygments_lexer": "ipython3",
   "version": "3.12.4"
  }
 },
 "nbformat": 4,
 "nbformat_minor": 5
}
